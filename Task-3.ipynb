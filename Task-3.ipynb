{
 "cells": [
  {
   "cell_type": "markdown",
   "id": "ed4eaa34",
   "metadata": {},
   "source": [
    "# Password Generator"
   ]
  },
  {
   "cell_type": "code",
   "execution_count": 3,
   "id": "f136dcf7",
   "metadata": {},
   "outputs": [
    {
     "name": "stdout",
     "output_type": "stream",
     "text": [
      "Enter the length of the password: 7\n",
      "Enter the complexity of the password (1-low, 2-high): 1\n",
      "Generated password:  5adPJev\n"
     ]
    }
   ],
   "source": [
    "import random\n",
    "\n",
    "def password_generator(length, complexity):\n",
    "    lowercase_letters = 'abcdefghijklmnopqrstuvwxyz'\n",
    "    uppercase_letters = 'ABCDEFGHIJKLMNOPQRSTUVWXYZ'\n",
    "    digits = '0123456789'\n",
    "    special_characters = '!@#$%^&*()-_=+[]{}|;:,.<>?/`~'\n",
    "\n",
    "    if complexity == 1:\n",
    "        characters = lowercase_letters + uppercase_letters + digits\n",
    "    elif complexity == 2:\n",
    "        characters = lowercase_letters + uppercase_letters + digits + special_characters\n",
    "    else:\n",
    "        print(\"Invalid complexity level. Please enter 1 or 2.\")\n",
    "        return None\n",
    "\n",
    "    password = ''.join(random.choice(characters) for i in range(length))\n",
    "    return password\n",
    "\n",
    "def main():\n",
    "    length = int(input(\"Enter the length of the password: \"))\n",
    "    complexity = int(input(\"Enter the complexity of the password (1-low, 2-high): \"))\n",
    "    password = password_generator(length, complexity)\n",
    "    if password:\n",
    "        print(\"Generated password: \", password)\n",
    "\n",
    "if __name__ == \"__main__\":\n",
    "    main()"
   ]
  }
 ],
 "metadata": {
  "kernelspec": {
   "display_name": "Python 3 (ipykernel)",
   "language": "python",
   "name": "python3"
  },
  "language_info": {
   "codemirror_mode": {
    "name": "ipython",
    "version": 3
   },
   "file_extension": ".py",
   "mimetype": "text/x-python",
   "name": "python",
   "nbconvert_exporter": "python",
   "pygments_lexer": "ipython3",
   "version": "3.9.12"
  }
 },
 "nbformat": 4,
 "nbformat_minor": 5
}
