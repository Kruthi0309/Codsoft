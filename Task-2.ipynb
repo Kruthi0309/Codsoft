{
 "cells": [
  {
   "cell_type": "markdown",
   "id": "19c72bea",
   "metadata": {},
   "source": [
    "# Simple Calculator\n"
   ]
  },
  {
   "cell_type": "code",
   "execution_count": 1,
   "id": "ae8301b2",
   "metadata": {},
   "outputs": [
    {
     "name": "stdout",
     "output_type": "stream",
     "text": [
      "Welcome to the Simple Calculator!\n",
      "Enter the first number: 12\n",
      "Enter the second number: 23\n",
      "Select operation:\n",
      "1. Addition\n",
      "2. Subtraction\n",
      "3. Multiplication\n",
      "4. Division\n",
      "Enter operation (1/2/3/4): 3\n",
      "Result of multiplication: 276.0\n"
     ]
    }
   ],
   "source": [
    "print(\"Welcome to the Simple Calculator!\")\n",
    "\n",
    "num1 = float(input(\"Enter the first number: \"))\n",
    "num2 = float(input(\"Enter the second number: \"))\n",
    "\n",
    "print(\"Select operation:\")\n",
    "print(\"1. Addition\")\n",
    "print(\"2. Subtraction\")\n",
    "print(\"3. Multiplication\")\n",
    "print(\"4. Division\")\n",
    "\n",
    "choice = input(\"Enter operation (1/2/3/4): \")\n",
    "\n",
    "if choice == '1':\n",
    "    result = num1 + num2\n",
    "    operation = \"addition\"\n",
    "elif choice == '2':\n",
    "    result = num1 - num2\n",
    "    operation = \"subtraction\"\n",
    "elif choice == '3':\n",
    "    result = num1 * num2\n",
    "    operation = \"multiplication\"\n",
    "elif choice == '4':\n",
    "    if num2 == 0:\n",
    "        print(\"Error: Division by zero is not allowed.\")\n",
    "    else:\n",
    "        result = num1 / num2\n",
    "        operation = \"division\"\n",
    "else:\n",
    "    print(\"Invalid choice\")\n",
    "    result = None\n",
    "\n",
    "if result is not None:\n",
    "    print(f\"Result of {operation}: {result}\")\n"
   ]
  },
  {
   "cell_type": "code",
   "execution_count": null,
   "id": "a8a21eed",
   "metadata": {},
   "outputs": [],
   "source": []
  }
 ],
 "metadata": {
  "kernelspec": {
   "display_name": "Python 3 (ipykernel)",
   "language": "python",
   "name": "python3"
  },
  "language_info": {
   "codemirror_mode": {
    "name": "ipython",
    "version": 3
   },
   "file_extension": ".py",
   "mimetype": "text/x-python",
   "name": "python",
   "nbconvert_exporter": "python",
   "pygments_lexer": "ipython3",
   "version": "3.9.12"
  }
 },
 "nbformat": 4,
 "nbformat_minor": 5
}
